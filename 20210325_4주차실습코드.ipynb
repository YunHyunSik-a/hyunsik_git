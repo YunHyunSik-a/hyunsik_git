{
 "cells": [
  {
   "cell_type": "markdown",
   "metadata": {},
   "source": [
    "### Part 1. 5장 MyEtchASketch"
   ]
  },
  {
   "cell_type": "code",
   "execution_count": 63,
   "metadata": {},
   "outputs": [],
   "source": [
    "from tkinter import *\n",
    "\n",
    "canvas_height = 400\n",
    "canvas_width = 600\n",
    "canvas_colour = \"black\"\n",
    "\n",
    "window = Tk()\n",
    "window.title(\"MyEtchASketch\")\n",
    "canvas = Canvas(bg=canvas_colour, height = canvas_height, width=canvas_width, highlightthickness=10)\n",
    "canvas.pack()\n",
    "window.mainloop()"
   ]
  },
  {
   "cell_type": "code",
   "execution_count": 64,
   "metadata": {},
   "outputs": [],
   "source": [
    "from tkinter import *\n",
    "\n",
    "canvas_height = 400\n",
    "canvas_width = 600\n",
    "canvas_colour = \"black\"\n",
    "\n",
    "p1_x = canvas_width/2\n",
    "p1_y = canvas_height\n",
    "p1_colour=\"green\"\n",
    "line_width = 5\n",
    "line_length = 5\n",
    "\n",
    "def p1_move_N(event):\n",
    "    global p1_y\n",
    "    canvas.create_line(p1_x, p1_y, p1_x, (p1_y-line_length), width=line_width, fill=p1_colour)\n",
    "    p1_y = p1_y - line_length\n",
    "\n",
    "window = Tk()\n",
    "window.title(\"MyEtchASketch\")\n",
    "canvas = Canvas(bg=canvas_colour, height = canvas_height, width=canvas_width, highlightthickness=0)\n",
    "canvas.pack()\n",
    "\n",
    "window.bind(\"<Up>\", p1_move_N)\n",
    "\n",
    "window.mainloop()"
   ]
  },
  {
   "cell_type": "markdown",
   "metadata": {},
   "source": [
    "#### 실습 - 위쪽으로 움직이는 함수 이용해 나머지 방향에 대해서도 함수를 만들어보시오"
   ]
  },
  {
   "cell_type": "code",
   "execution_count": null,
   "metadata": {},
   "outputs": [],
   "source": [
    "from tkinter import *\n",
    "\n",
    "canvas_height = 400\n",
    "canvas_width = 600\n",
    "canvas_colour = \"black\"\n",
    "\n",
    "p1_x = canvas_width/2\n",
    "p1_y = canvas_height\n",
    "p1_colour=\"green\"\n",
    "line_width = 5\n",
    "line_length = 5\n",
    "\n",
    "def p1_move_N(event):\n",
    "    global p1_y\n",
    "    canvas.create_line(p1_x, p1_y, p1_x, (p1_y-line_length), width=line_width, fill=p1_colour)\n",
    "    p1_y = p1_y - line_length\n",
    "    \n",
    "def p1_move_S(event):\n",
    "    global p1_y\n",
    "    canvas.create_line(p1_x, p1_y, p1_x, (p1_y+line_length), width=line_width, fill=p1_colour)\n",
    "    p1_y = p1_y + line_length\n",
    "    \n",
    "def p1_move_E(event):\n",
    "    global p1_x\n",
    "    canvas.create_line(p1_x, p1_y, (p1_x+line_length), p1_y, width=line_width, fill=p1_colour)\n",
    "    p1_x = p1_x + line_length\n",
    "    \n",
    "def p1_move_W(event):\n",
    "    global p1_x\n",
    "    canvas.create_line(p1_x, p1_y, (p1_x-line_length), p1_y, width=line_width, fill=p1_colour)\n",
    "    p1_x = p1_x - line_length\n",
    "    \n",
    "def erase_all(event):\n",
    "    canvas.delete(ALL)\n",
    "    \n",
    "window = Tk()\n",
    "window.title(\"MyEtchASketch\")\n",
    "canvas = Canvas(bg=canvas_colour, height = canvas_height, width=canvas_width, highlightthickness=0)\n",
    "canvas.pack()\n",
    "\n",
    "window.bind(\"<Up>\", p1_move_N)\n",
    "window.bind(\"<Down>\", p1_move_S)\n",
    "window.bind(\"<Left>\", p1_move_W)\n",
    "window.bind(\"<Right>\", p1_move_E)\n",
    "window.bind(\"u\", erase_all)\n",
    "\n",
    "window.mainloop()"
   ]
  },
  {
   "cell_type": "markdown",
   "metadata": {},
   "source": [
    "#### 실습 - 반복되는 부분을 처리하는 또 다른 방법"
   ]
  },
  {
   "cell_type": "code",
   "execution_count": null,
   "metadata": {},
   "outputs": [],
   "source": [
    "from tkinter import *\n",
    "\n",
    "canvas_height = 400\n",
    "canvas_width = 600\n",
    "canvas_colour = \"black\"\n",
    "\n",
    "p1_x = canvas_width/2\n",
    "p1_y = canvas_height\n",
    "p1_colour=\"green\"\n",
    "line_width = 5\n",
    "line_length = 5\n",
    "\n",
    "def p1_move(x, y):\n",
    "    global p1_x\n",
    "    global p1_y\n",
    "    p1_new_x = p1_x + x\n",
    "    p1_new_y = p1_y + y\n",
    "    canvas.create_line(p1_x, p1_y, p1_new_x, p1_new_y, width=line_width, fill=p1_colour)\n",
    "    p1_x = p1_new_x\n",
    "    p1_y = p1_new_y\n",
    "    \n",
    "def p1_move_N(event):\n",
    "    p1_move(0, -line_length)\n",
    "    \n",
    "def p1_move_S(event):\n",
    "    p1_move(0, line_length)\n",
    "    \n",
    "def p1_move_E(event):\n",
    "    p1_move(line_length, 0)    \n",
    "\n",
    "def p1_move_W(event):\n",
    "    p1_move(-line_length, 0)    \n",
    "    \n",
    "def erase_all(event):\n",
    "    canvas.delete(ALL)\n",
    "    \n",
    "window = Tk()\n",
    "window.title(\"MyEtchASketch\")\n",
    "canvas = Canvas(bg=canvas_colour, height = canvas_height, width=canvas_width, highlightthickness=0)\n",
    "canvas.pack()\n",
    "\n",
    "window.bind(\"<Up>\", p1_move_N)\n",
    "window.bind(\"<Down>\", p1_move_S)\n",
    "window.bind(\"<Left>\", p1_move_W)\n",
    "window.bind(\"<Right>\", p1_move_E)\n",
    "window.bind(\"u\", erase_all)\n",
    "\n",
    "window.mainloop()"
   ]
  },
  {
   "cell_type": "markdown",
   "metadata": {},
   "source": [
    "### Part 2. 1장 자료형"
   ]
  },
  {
   "cell_type": "code",
   "execution_count": null,
   "metadata": {},
   "outputs": [],
   "source": [
    "my_list = [\"one\", \"two\", \"three\", \"four\"]\n",
    "my_list[2]"
   ]
  },
  {
   "cell_type": "code",
   "execution_count": null,
   "metadata": {},
   "outputs": [],
   "source": [
    "my_tuple = (\"one\", \"two\", \"three\", \"four\")\n",
    "my_tuple[2]"
   ]
  },
  {
   "cell_type": "code",
   "execution_count": null,
   "metadata": {},
   "outputs": [],
   "source": [
    "# MyMagic8Ball\n",
    "\n",
    "import random\n",
    "\n",
    "# 답변을 입력해 봅시다.\n",
    "ans1=\"자! 해보세요!\"\n",
    "ans2=\"됐네요, 이 사람아\"\n",
    "ans3=\"뭐라고? 다시 생각해보세요.\"\n",
    "ans4=\"모르니 두려운 것입니다.\"\n",
    "ans5=\"칠푼인가요?? 제 정신이 아니군요!\"\n",
    "ans6=\"당신이라면 할 수 있어요!\"\n",
    "ans7=\"해도 그만, 안 해도 그만, 아니겠어요?\"\n",
    "ans8=\"맞아요. 당신은 올바른 선택을 했어요.\"\n",
    "\n",
    "print(\"MyMagic8Ball에 오신 것을 환영합니다.\")\n",
    "\n",
    "# 사용자의 질문 얻기\n",
    "question = input(\"조언을 구하고 싶으면 질문을 입력하고 엔터 키를 누르세요.\\n\")\n",
    "\n",
    "print(\"고민 중...\\n\" * 4)\n",
    "\n",
    "# 질문에 알맞은 답변을 하는 일에 randint() 함수를 활용합니다.\n",
    "choice=random.randint(1, 8)\n",
    "if choice==1:\n",
    "    answer=ans1\n",
    "elif choice==2:\n",
    "    answer=ans2\n",
    "elif choice==3:\n",
    "    answer=ans3\n",
    "elif choice==4:\n",
    "    answer=ans4\n",
    "elif choice==5:\n",
    "    answer=ans5\n",
    "elif choice==6:\n",
    "    answer=ans6\n",
    "elif choice==7:\n",
    "    answer=ans7\n",
    "else:\n",
    "    answer=ans8\n",
    "\n",
    "# 화면에 답변을 출력합니다.\n",
    "print(answer)\n",
    "\n",
    "input(\"\\n\\n마치려면 엔터 키를 누르세요.\")\n"
   ]
  },
  {
   "cell_type": "code",
   "execution_count": null,
   "metadata": {},
   "outputs": [],
   "source": [
    "# MyMagic8Ball\n",
    "\n",
    "import random\n",
    "\n",
    "# 답변을 입력해 봅시다.\n",
    "answers = (\n",
    "    \"자! 해보세요!\",\n",
    "    \"됐네요, 이 사람아\",\n",
    "    \"뭐라고? 다시 생각해보세요.\",\n",
    "    \"모르니 두려운 것입니다.\",\n",
    "    \"칠푼인가요?? 제 정신이 아니군요!\",\n",
    "    \"당신이라면 할 수 있어요!\",\n",
    "    \"해도 그만, 안 해도 그만, 아니겠어요?\",\n",
    "    \"맞아요. 당신은 올바른 선택을 했어요.\"\n",
    ")\n",
    "print(\"MyMagic8Ball에 오신 것을 환영합니다.\")\n",
    "\n",
    "# 사용자의 질문 얻기\n",
    "question = input(\"조언을 구하고 싶으면 질문을 입력하고 엔터 키를 누르세요.\\n\")\n",
    "\n",
    "print(\"고민 중...\\n\" * 4)\n",
    "\n",
    "# 질문에 알맞은 답변을 하는 일에 randint() 함수를 활용합니다.\n",
    "#choice=random.randint(1, 8)\n",
    "choice=random.randint(0, 7)\n",
    "\n",
    "# 화면에 답변을 출력합니다.\n",
    "print(answers[choice])\n",
    "\n",
    "input(\"\\n\\n마치려면 엔터 키를 누르세요.\")\n"
   ]
  },
  {
   "cell_type": "markdown",
   "metadata": {},
   "source": [
    "#### 리스트 관련 기능"
   ]
  },
  {
   "cell_type": "code",
   "execution_count": null,
   "metadata": {},
   "outputs": [],
   "source": [
    "L=[\"b\", \"c\", \"a\"] \n",
    "print(L[0:2]) # 0이상 2미만 출력\n",
    "L.append(\"d\") #“d” 추가\n",
    "print(L)\n",
    "L.insert(0, \"p\") # 0 위치에 p추가\n",
    "print(L)\n",
    "S=L+[\"f\", \"e\", \"g\"]\n",
    "M=[\"f\", \"e\", \"g\"]\n",
    "S=L+M\n",
    "print(S)\n",
    "L.sort() # 정렬\n",
    "print(L)\n",
    "#del(L[1:3]) # 1이상 3미만 삭제\n",
    "L[0]=\"start\" # 치환\n",
    "print(L)\n",
    "print(L.index(\"b\")) #“b”가 위치한 자리 찾기\n",
    "print(len(L))\n",
    "print(','.join(L)) # 각 요소들이 문자열인 경우, 하나로 합친 문자열을 반환\n",
    "print('/'.join(L))\n",
    "print('\\n'.join(L))\n"
   ]
  },
  {
   "cell_type": "markdown",
   "metadata": {},
   "source": [
    "#### 튜플 관련 기능"
   ]
  },
  {
   "cell_type": "code",
   "execution_count": null,
   "metadata": {},
   "outputs": [],
   "source": [
    "T=(1, 2, 3, \"a\", \"b\", \"c\")\n",
    "print(T[0]) # 출력\n",
    "print(T.index(\"b\")) # 찾기\n",
    "print(len(T)) # 길이\n"
   ]
  },
  {
   "cell_type": "markdown",
   "metadata": {},
   "source": [
    "#### 실습(1)\n",
    "#### - 리스트 rainbow 에 무지개 색을 입력한 후 , 사용자에게 몇번째 색을 알고 싶은 지 물어보고 , \n",
    "####   이에 대한 답으로 '무지개의 *번째 색은 ***입니다' 를 출력하는 코드를 작성하시오\n",
    "#### - 리스트 rainbow “ 주황 보라 ” 를 지우고 , 빨강 ” 앞뒤에 흰색 과 검정색 을 각각 추가하시오 . \n",
    "#### rainbow=['빨강','주황','노랑','초록','파랑','남색','보라'] --> rainbow=['흰색', '빨강', '검정색']"
   ]
  },
  {
   "cell_type": "code",
   "execution_count": null,
   "metadata": {},
   "outputs": [],
   "source": [
    "rainbow=['빨강','주황','노랑','초록','파랑','남색','보라']\n",
    "select_number = int(input(\"무지개의 몇번째 색을 알고 싶으세요\"))\n",
    "print(\"무지개의\", select_number, \"번째 색은\", rainbow[select_number-1], \"입니다.\")\n"
   ]
  },
  {
   "cell_type": "code",
   "execution_count": null,
   "metadata": {},
   "outputs": [],
   "source": [
    "del(rainbow[1:7])\n",
    "rainbow.append(\"검정\")\n",
    "rainbow.insert(0, \"흰색\")\n",
    "print(rainbow)\n"
   ]
  },
  {
   "cell_type": "code",
   "execution_count": null,
   "metadata": {},
   "outputs": [],
   "source": [
    "my_dictionary = {1:\"고양이\", 2:\"개\", 3:\"말\", 4:\"물고기\"}"
   ]
  },
  {
   "cell_type": "code",
   "execution_count": null,
   "metadata": {},
   "outputs": [],
   "source": [
    "print(my_dictionary[1])\n",
    "#my_dictionary[\"고양이\"]\n",
    "print(my_dictionary.keys()) # 키추출\n",
    "print(my_dictionary.values()) # 값추출\n",
    "print(my_dictionary.items()) # 키, 값 추출"
   ]
  },
  {
   "cell_type": "markdown",
   "metadata": {},
   "source": [
    "#### 실습(2) - 다음의 코드를  리스트를 사용해 작성해봅시다."
   ]
  },
  {
   "cell_type": "code",
   "execution_count": null,
   "metadata": {},
   "outputs": [],
   "source": [
    "# MyMagic8Ball\n",
    "\n",
    "import random\n",
    "\n",
    "# 답변을 입력해 봅시다.\n",
    "answers = (\n",
    "    \"자! 해보세요!\",\n",
    "    \"됐네요, 이 사람아\",\n",
    "    \"뭐라고? 다시 생각해보세요.\",\n",
    "    \"모르니 두려운 것입니다.\",\n",
    "    \"칠푼인가요?? 제 정신이 아니군요!\",\n",
    "    \"당신이라면 할 수 있어요!\",\n",
    "    \"해도 그만, 안 해도 그만, 아니겠어요?\",\n",
    "    \"맞아요. 당신은 올바른 선택을 했어요.\"\n",
    ")\n",
    "print(\"MyMagic8Ball에 오신 것을 환영합니다.\")\n",
    "\n",
    "# 사용자의 질문 얻기\n",
    "question = input(\"조언을 구하고 싶으면 질문을 입력하고 엔터 키를 누르세요.\\n\")\n",
    "\n",
    "print(\"고민 중...\\n\" * 4)\n",
    "\n",
    "# 질문에 알맞은 답변을 하는 일에 randint() 함수를 활용합니다.\n",
    "#choice=random.randint(1, 8)\n",
    "choice=random.randint(0, 7)\n",
    "\n",
    "# 화면에 답변을 출력합니다.\n",
    "print(answers[choice])\n",
    "\n",
    "input(\"\\n\\n마치려면 엔터 키를 누르세요.\")\n"
   ]
  },
  {
   "cell_type": "markdown",
   "metadata": {},
   "source": [
    "#### 실습(2) - ['김도현', '김경민', '김종만', '유우연'], ['데이터마이닝', '경영과학', '신뢰성공학', '생산계획 및 통제']을 professors와 courses 라는 key 로 갖는 dictionary 를 만든 후 , 교수 이름순으로 sorting하시오"
   ]
  },
  {
   "cell_type": "code",
   "execution_count": null,
   "metadata": {},
   "outputs": [],
   "source": [
    "dic = {}\n",
    "dic = {'professors':['김도현', '김경민', '김종만', '유우연'],'courses':['데이터마이닝', '경영과학', '신뢰성공학', '생산계획 및 통제']}\n",
    "print(sorted(dic)) #[＇courses＇, ＇professors＇]\n",
    "print(sorted(dic['professors']))\n",
    "print(sorted(dic['professors'], reverse=True))\n"
   ]
  },
  {
   "cell_type": "code",
   "execution_count": null,
   "metadata": {},
   "outputs": [],
   "source": [
    "dic2 = {'김경민': ['경영과학'], '김도현': ['데이터마이닝'], '유우연': ['생산계획 및 통제'], '김종만': ['신뢰성공학']}\n",
    "print(sorted(dic2)) #['김도현', '김종만’, ‘김경민', '유우연']\n",
    "print(sorted(dic2.items()))\n"
   ]
  },
  {
   "cell_type": "markdown",
   "metadata": {},
   "source": [
    "#### 실습(3) \n",
    "#### - for 문을 활용해서 list 의 내용을 한줄씩 출력하는 프로그램을 작성해 보세요 List=[‘가위 ’, 바위 ’, 보']\n",
    "#### - for 문을 활용해서 3 부터 10 까지 쉼표로 구분하면서 한 줄에 출력하는 프로그램을 작성해 보세요 3, 4, 5, 6, 7, 8, 9, 10"
   ]
  },
  {
   "cell_type": "code",
   "execution_count": null,
   "metadata": {},
   "outputs": [],
   "source": [
    " List=['가위', '바위', '보']\n",
    "for i in List:\n",
    "    print(i)\n",
    "for i in range(3):\n",
    "    print(List[i])\n",
    "for i in range(len(List)):\n",
    "    print(List[i])\n",
    "for i in enumerate(List):\n",
    "    print(i)  # (0, ‘가위’)\n",
    "for i, names in enumerate(List):\n",
    "    print(names) \n"
   ]
  },
  {
   "cell_type": "code",
   "execution_count": null,
   "metadata": {},
   "outputs": [],
   "source": [
    "List = []\n",
    "for i in range(8):\n",
    "    List.append(str(i+3))\n",
    "print(', '.join(List))\n"
   ]
  },
  {
   "cell_type": "code",
   "execution_count": null,
   "metadata": {},
   "outputs": [],
   "source": []
  }
 ],
 "metadata": {
  "kernelspec": {
   "display_name": "Python 3",
   "language": "python",
   "name": "python3"
  },
  "language_info": {
   "codemirror_mode": {
    "name": "ipython",
    "version": 3
   },
   "file_extension": ".py",
   "mimetype": "text/x-python",
   "name": "python",
   "nbconvert_exporter": "python",
   "pygments_lexer": "ipython3",
   "version": "3.8.5"
  }
 },
 "nbformat": 4,
 "nbformat_minor": 4
}
